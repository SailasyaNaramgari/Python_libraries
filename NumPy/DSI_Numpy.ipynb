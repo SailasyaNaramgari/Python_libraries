{
  "nbformat": 4,
  "nbformat_minor": 0,
  "metadata": {
    "colab": {
      "provenance": []
    },
    "kernelspec": {
      "name": "python3",
      "display_name": "Python 3"
    },
    "language_info": {
      "name": "python"
    }
  },
  "cells": [
    {
      "cell_type": "code",
      "execution_count": null,
      "metadata": {
        "id": "kzSn60h-MyLA"
      },
      "outputs": [],
      "source": []
    },
    {
      "cell_type": "markdown",
      "source": [
        "**Numpy**"
      ],
      "metadata": {
        "id": "lQ89XUNGMzNn"
      }
    },
    {
      "cell_type": "code",
      "source": [
        "#pip install numpy"
      ],
      "metadata": {
        "colab": {
          "base_uri": "https://localhost:8080/"
        },
        "id": "_ShY_zE4M2fG",
        "outputId": "4bbe43cc-14ea-4933-f6c2-1ed39aabd7de"
      },
      "execution_count": null,
      "outputs": [
        {
          "output_type": "stream",
          "name": "stdout",
          "text": [
            "Requirement already satisfied: numpy in /usr/local/lib/python3.10/dist-packages (1.23.5)\n"
          ]
        }
      ]
    },
    {
      "cell_type": "code",
      "source": [
        "import numpy as np"
      ],
      "metadata": {
        "id": "3HpQP7_NM9gz"
      },
      "execution_count": null,
      "outputs": []
    },
    {
      "cell_type": "code",
      "source": [
        "#create numpy arrays\n",
        "#Ex - create a array from a python list\n",
        "\n",
        "Arr = np.array([1,2,3,4])\n",
        "print(Arr)"
      ],
      "metadata": {
        "colab": {
          "base_uri": "https://localhost:8080/"
        },
        "id": "TNfWNf5RNCGW",
        "outputId": "780a2c15-33b8-4e23-f641-175bd1247c31"
      },
      "execution_count": null,
      "outputs": [
        {
          "output_type": "stream",
          "name": "stdout",
          "text": [
            "[1 2 3 4]\n"
          ]
        }
      ]
    },
    {
      "cell_type": "code",
      "source": [
        "#zero dimension array - scalar value (one value)\n",
        "\n",
        "zero_arr = np.array([22])\n",
        "print(zero_arr)"
      ],
      "metadata": {
        "colab": {
          "base_uri": "https://localhost:8080/"
        },
        "id": "nlmWuTNONX1S",
        "outputId": "c98e1ce4-634a-4c05-b663-1846cbbe548b"
      },
      "execution_count": null,
      "outputs": [
        {
          "output_type": "stream",
          "name": "stdout",
          "text": [
            "[22]\n"
          ]
        }
      ]
    },
    {
      "cell_type": "code",
      "source": [
        "#one dimension array\n",
        "\n",
        "one_arr = np.array([2,9,3,5])\n",
        "print(one_arr)"
      ],
      "metadata": {
        "colab": {
          "base_uri": "https://localhost:8080/"
        },
        "id": "DgWSgkNPNv2m",
        "outputId": "c70467d4-eff7-451f-951e-74f3da25a06e"
      },
      "execution_count": null,
      "outputs": [
        {
          "output_type": "stream",
          "name": "stdout",
          "text": [
            "[2 9 3 5]\n"
          ]
        }
      ]
    },
    {
      "cell_type": "code",
      "source": [
        "#two dimension array\n",
        "\n",
        "two_arr = np.array([[1,2,3],[4,5,6]])\n",
        "print(two_arr)"
      ],
      "metadata": {
        "colab": {
          "base_uri": "https://localhost:8080/"
        },
        "id": "j6MoU2-5N-Zw",
        "outputId": "d4c76f04-8a3d-4cc9-8b22-21820096b8d8"
      },
      "execution_count": null,
      "outputs": [
        {
          "output_type": "stream",
          "name": "stdout",
          "text": [
            "[[1 2 3]\n",
            " [4 5 6]]\n"
          ]
        }
      ]
    },
    {
      "cell_type": "code",
      "source": [
        "#how to create a 2D array with floating point numbers\n",
        "\n",
        "matrix_floating = np.array([[0.1,0.2,0.3,0.9],[0.4,0.5,0.6,0.8]])\n",
        "print(matrix_floating )"
      ],
      "metadata": {
        "colab": {
          "base_uri": "https://localhost:8080/"
        },
        "id": "025oPj6kOuC2",
        "outputId": "da35e79a-4658-4da8-8866-887aa0105e43"
      },
      "execution_count": null,
      "outputs": [
        {
          "output_type": "stream",
          "name": "stdout",
          "text": [
            "[[0.1 0.2 0.3 0.9]\n",
            " [0.4 0.5 0.6 0.8]]\n"
          ]
        }
      ]
    },
    {
      "cell_type": "code",
      "source": [
        "#mathematical operation with 2D array\n",
        "\n",
        "a=np.array([[1,2],[3,4]])\n",
        "b=np.array([[9,8],[7,6]])\n",
        "c=a+b\n",
        "d=a-b\n",
        "print(c)\n",
        "print(d)"
      ],
      "metadata": {
        "colab": {
          "base_uri": "https://localhost:8080/"
        },
        "id": "3U_Y76xePR5o",
        "outputId": "7f1d8dd5-a11d-4bd9-a0a0-4f2a7d88fff6"
      },
      "execution_count": null,
      "outputs": [
        {
          "output_type": "stream",
          "name": "stdout",
          "text": [
            "[[10 10]\n",
            " [10 10]]\n",
            "[[-8 -6]\n",
            " [-4 -2]]\n"
          ]
        }
      ]
    },
    {
      "cell_type": "code",
      "source": [
        "#how to access element of 2d array using rows & columns using indexing\n",
        "\n",
        "a = np.array([[1,2],[4,5]])\n",
        "print(a[1,0])\n",
        "print(a[0,1])"
      ],
      "metadata": {
        "colab": {
          "base_uri": "https://localhost:8080/"
        },
        "id": "LCSEDJypQSrv",
        "outputId": "cee08882-7486-42cc-9383-7a48282b90c5"
      },
      "execution_count": null,
      "outputs": [
        {
          "output_type": "stream",
          "name": "stdout",
          "text": [
            "4\n",
            "2\n"
          ]
        }
      ]
    },
    {
      "cell_type": "code",
      "source": [
        "#3D array\n",
        "\n",
        "three_arr = np.array([[[1,2],[3,4]],[[5,6],[7,8]]])\n",
        "print(three_arr)"
      ],
      "metadata": {
        "colab": {
          "base_uri": "https://localhost:8080/"
        },
        "id": "k4ZRsxcmQ7MN",
        "outputId": "997742e6-aec0-4cab-c265-4995e989eccb"
      },
      "execution_count": null,
      "outputs": [
        {
          "output_type": "stream",
          "name": "stdout",
          "text": [
            "[[[1 2]\n",
            "  [3 4]]\n",
            "\n",
            " [[5 6]\n",
            "  [7 8]]]\n"
          ]
        }
      ]
    },
    {
      "cell_type": "code",
      "source": [
        "#how to create 3d arr of floating point numbers\n",
        "\n",
        "three_arr = np.array([[[1.1,2.2],[3.3,4.4]],[[5.5,6.6],[7.7,8.8]]])\n",
        "print(three_arr)"
      ],
      "metadata": {
        "colab": {
          "base_uri": "https://localhost:8080/"
        },
        "id": "2jwPM-KQRoH2",
        "outputId": "4214e2b2-168e-4025-a18d-f3f9408b6001"
      },
      "execution_count": null,
      "outputs": [
        {
          "output_type": "stream",
          "name": "stdout",
          "text": [
            "[[[1.1 2.2]\n",
            "  [3.3 4.4]]\n",
            "\n",
            " [[5.5 6.6]\n",
            "  [7.7 8.8]]]\n"
          ]
        }
      ]
    },
    {
      "cell_type": "code",
      "source": [
        "#0 - scaler\n",
        "#1 - vector\n",
        "#2 - matrix\n",
        "#3 - cube"
      ],
      "metadata": {
        "id": "A-qE87MQSMG2"
      },
      "execution_count": null,
      "outputs": []
    },
    {
      "cell_type": "markdown",
      "source": [
        "*Basic array operations*"
      ],
      "metadata": {
        "id": "XRJvp-arSTjx"
      }
    },
    {
      "cell_type": "code",
      "source": [
        "#element wise operation like addition , sub , mul , div\n",
        "\n",
        "a = np.array([1,2,3,4,5])\n",
        "b = np.array([11,12,13,14,15])\n",
        "print(a+b)\n",
        "print(a-b)\n",
        "print(a*b)\n",
        "print(a/b)\n"
      ],
      "metadata": {
        "colab": {
          "base_uri": "https://localhost:8080/"
        },
        "id": "h9yccbnYSYBw",
        "outputId": "096a1d4d-b522-466f-fbd5-29e3cbfe57c9"
      },
      "execution_count": null,
      "outputs": [
        {
          "output_type": "stream",
          "name": "stdout",
          "text": [
            "[12 14 16 18 20]\n",
            "[-10 -10 -10 -10 -10]\n",
            "[11 24 39 56 75]\n",
            "[0.09090909 0.16666667 0.23076923 0.28571429 0.33333333]\n"
          ]
        }
      ]
    },
    {
      "cell_type": "code",
      "source": [
        "#scaler operation\n",
        "\n",
        "a = np.array([6,9,8,7])\n",
        "print(a*2) #mul 2\n",
        "print(a**2) #square\n"
      ],
      "metadata": {
        "colab": {
          "base_uri": "https://localhost:8080/"
        },
        "id": "MI6OAXKlTcJ0",
        "outputId": "a6f4f00f-3ef1-4c2c-d331-ed2cb5b21ce4"
      },
      "execution_count": null,
      "outputs": [
        {
          "output_type": "stream",
          "name": "stdout",
          "text": [
            "[12 18 16 14]\n",
            "[36 81 64 49]\n"
          ]
        }
      ]
    },
    {
      "cell_type": "code",
      "source": [
        "#indexing and slicing arr\n",
        "\n",
        "a = np.array([77,99,88,22])\n",
        "print(a[-1])\n",
        "print(a[0:4])"
      ],
      "metadata": {
        "colab": {
          "base_uri": "https://localhost:8080/"
        },
        "id": "XIoyQFFLT7yY",
        "outputId": "75dac121-48ad-49ff-bec2-2a532d445c21"
      },
      "execution_count": null,
      "outputs": [
        {
          "output_type": "stream",
          "name": "stdout",
          "text": [
            "22\n",
            "[77 99 88 22]\n"
          ]
        }
      ]
    },
    {
      "cell_type": "code",
      "source": [
        "#array shaping\n",
        "\n",
        "a = np.array([1,3,5,7,9])\n",
        "b = np.array([[[1.1,2.2],[3.3,4.4]],[[5.5,6.6],[7.7,8.8]]])\n",
        "res = a.shape\n",
        "res1 = b.shape\n",
        "print(res)\n",
        "print(res1)"
      ],
      "metadata": {
        "colab": {
          "base_uri": "https://localhost:8080/"
        },
        "id": "IQAExo3sUy57",
        "outputId": "e06f0844-00b9-45b7-8fc3-7c29c317fb6a"
      },
      "execution_count": null,
      "outputs": [
        {
          "output_type": "stream",
          "name": "stdout",
          "text": [
            "(5,)\n",
            "(2, 2, 2)\n",
            "[1 3 5 7 9]\n"
          ]
        }
      ]
    },
    {
      "cell_type": "code",
      "source": [
        "#array reshaping\n",
        "\n",
        "a = np.array([1,3,5,7,9,0])\n",
        "res2 = a.reshape(2,3)\n",
        "print(res2)"
      ],
      "metadata": {
        "colab": {
          "base_uri": "https://localhost:8080/"
        },
        "id": "58mmbm92Va8L",
        "outputId": "8ed47847-e64d-44ce-ae76-313379392963"
      },
      "execution_count": null,
      "outputs": [
        {
          "output_type": "stream",
          "name": "stdout",
          "text": [
            "[[1 3 5]\n",
            " [7 9 0]]\n"
          ]
        }
      ]
    },
    {
      "cell_type": "code",
      "source": [
        "\n",
        "c = np.array([[[1.1,2.2],[3.3,4.4]],[[5.5,6.6],[7.7,8.8]]])\n",
        "res3 = c.reshape(2,4)\n",
        "res4 = c.reshape(4,2)\n",
        "print(res3)\n",
        "print(res4)"
      ],
      "metadata": {
        "colab": {
          "base_uri": "https://localhost:8080/"
        },
        "id": "MfsRWDM-WESj",
        "outputId": "4807c722-445e-4373-c52b-8126b2edf8dc"
      },
      "execution_count": null,
      "outputs": [
        {
          "output_type": "stream",
          "name": "stdout",
          "text": [
            "[[1.1 2.2 3.3 4.4]\n",
            " [5.5 6.6 7.7 8.8]]\n",
            "[[1.1 2.2]\n",
            " [3.3 4.4]\n",
            " [5.5 6.6]\n",
            " [7.7 8.8]]\n"
          ]
        }
      ]
    },
    {
      "cell_type": "markdown",
      "source": [
        "*Array functions and operations*"
      ],
      "metadata": {
        "id": "iEYrdB6jWmc-"
      }
    },
    {
      "cell_type": "code",
      "source": [
        "\n",
        "a = np.array([1,3,5,7,9,0])\n",
        "print(np.sum(a))\n",
        "print(np.min(a))\n",
        "print(np.max(a))\n",
        "print(np.mean(a))"
      ],
      "metadata": {
        "colab": {
          "base_uri": "https://localhost:8080/"
        },
        "id": "_x_KHrkhWquh",
        "outputId": "00501f58-f1d1-44f8-80b9-c289a4a79ba4"
      },
      "execution_count": null,
      "outputs": [
        {
          "output_type": "stream",
          "name": "stdout",
          "text": [
            "25\n",
            "0\n",
            "9\n",
            "4.166666666666667\n"
          ]
        }
      ]
    }
  ]
}