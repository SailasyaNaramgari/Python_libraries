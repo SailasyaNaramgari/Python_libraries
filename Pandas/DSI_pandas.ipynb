{
 "cells": [
  {
   "cell_type": "markdown",
   "metadata": {
    "id": "PJ4kR5oEeloa"
   },
   "source": [
    "**PANDAS**"
   ]
  },
  {
   "cell_type": "code",
   "execution_count": 1,
   "metadata": {
    "colab": {
     "base_uri": "https://localhost:8080/"
    },
    "id": "l9MAyoKRetrf",
    "outputId": "6068e3a3-336a-4db6-99fa-43211740e42e"
   },
   "outputs": [
    {
     "name": "stdout",
     "output_type": "stream",
     "text": [
      "Defaulting to user installation because normal site-packages is not writeable\n",
      "Requirement already satisfied: pandas in c:\\users\\91628\\appdata\\local\\packages\\pythonsoftwarefoundation.python.3.12_qbz5n2kfra8p0\\localcache\\local-packages\\python312\\site-packages (2.1.3)\n",
      "Requirement already satisfied: numpy<2,>=1.26.0 in c:\\users\\91628\\appdata\\local\\packages\\pythonsoftwarefoundation.python.3.12_qbz5n2kfra8p0\\localcache\\local-packages\\python312\\site-packages (from pandas) (1.26.1)\n",
      "Requirement already satisfied: python-dateutil>=2.8.2 in c:\\users\\91628\\appdata\\local\\packages\\pythonsoftwarefoundation.python.3.12_qbz5n2kfra8p0\\localcache\\local-packages\\python312\\site-packages (from pandas) (2.8.2)\n",
      "Requirement already satisfied: pytz>=2020.1 in c:\\users\\91628\\appdata\\local\\packages\\pythonsoftwarefoundation.python.3.12_qbz5n2kfra8p0\\localcache\\local-packages\\python312\\site-packages (from pandas) (2023.3.post1)\n",
      "Requirement already satisfied: tzdata>=2022.1 in c:\\users\\91628\\appdata\\local\\packages\\pythonsoftwarefoundation.python.3.12_qbz5n2kfra8p0\\localcache\\local-packages\\python312\\site-packages (from pandas) (2023.3)\n",
      "Requirement already satisfied: six>=1.5 in c:\\users\\91628\\appdata\\local\\packages\\pythonsoftwarefoundation.python.3.12_qbz5n2kfra8p0\\localcache\\local-packages\\python312\\site-packages (from python-dateutil>=2.8.2->pandas) (1.16.0)\n",
      "Note: you may need to restart the kernel to use updated packages.\n"
     ]
    }
   ],
   "source": [
    "pip install pandas"
   ]
  },
  {
   "cell_type": "code",
   "execution_count": 2,
   "metadata": {
    "id": "J4WoVSX1fkRQ"
   },
   "outputs": [],
   "source": [
    "import pandas as pd"
   ]
  },
  {
   "cell_type": "code",
   "execution_count": 3,
   "metadata": {
    "colab": {
     "base_uri": "https://localhost:8080/"
    },
    "id": "71aoeME7fTcv",
    "outputId": "1c5c4320-0cec-4a90-f48c-5778506172ae"
   },
   "outputs": [
    {
     "name": "stdout",
     "output_type": "stream",
     "text": [
      "0    1\n",
      "1    2\n",
      "2    3\n",
      "3    4\n",
      "4    5\n",
      "dtype: int64\n"
     ]
    }
   ],
   "source": [
    "#series - 1d array\n",
    "\n",
    "s = pd.Series([1,2,3,4,5])\n",
    "print(s)"
   ]
  },
  {
   "cell_type": "code",
   "execution_count": 4,
   "metadata": {
    "colab": {
     "base_uri": "https://localhost:8080/"
    },
    "id": "-EBw3AMZfrB8",
    "outputId": "6f01b8a4-de9e-4138-cec1-92cc5b4f7f53"
   },
   "outputs": [
    {
     "name": "stdout",
     "output_type": "stream",
     "text": [
      "  course name  no of courses\n",
      "0      python             20\n",
      "1          ds             18\n",
      "2          da             22\n"
     ]
    }
   ],
   "source": [
    "#creating dataframe\n",
    "\n",
    "course = {\"course name\" : ['python','ds','da'] , \"no of courses\" : [20,18,22]}\n",
    "df = pd.DataFrame(course)\n",
    "print(df)"
   ]
  },
  {
   "cell_type": "code",
   "execution_count": 5,
   "metadata": {
    "colab": {
     "base_uri": "https://localhost:8080/",
     "height": 90
    },
    "id": "LGmPUOZOgmU4",
    "outputId": "b580e674-8748-4e8b-97ff-ebeecf1d5370"
   },
   "outputs": [
    {
     "ename": "ModuleNotFoundError",
     "evalue": "No module named 'google'",
     "output_type": "error",
     "traceback": [
      "\u001b[1;31m---------------------------------------------------------------------------\u001b[0m",
      "\u001b[1;31mModuleNotFoundError\u001b[0m                       Traceback (most recent call last)",
      "Cell \u001b[1;32mIn[5], line 3\u001b[0m\n\u001b[0;32m      1\u001b[0m \u001b[38;5;66;03m#reading file\u001b[39;00m\n\u001b[1;32m----> 3\u001b[0m \u001b[38;5;28;01mfrom\u001b[39;00m \u001b[38;5;21;01mgoogle\u001b[39;00m\u001b[38;5;21;01m.\u001b[39;00m\u001b[38;5;21;01mcolab\u001b[39;00m \u001b[38;5;28;01mimport\u001b[39;00m files\n\u001b[0;32m      5\u001b[0m uploaded \u001b[38;5;241m=\u001b[39m files\u001b[38;5;241m.\u001b[39mupload()\n",
      "\u001b[1;31mModuleNotFoundError\u001b[0m: No module named 'google'"
     ]
    }
   ],
   "source": [
    "#reading file\n",
    "\n",
    "#from google.colab import files\n",
    "\n",
    "#uploaded = files.upload()\n"
   ]
  },
  {
   "cell_type": "code",
   "execution_count": 6,
   "metadata": {
    "id": "v5COA6l1hsHX"
   },
   "outputs": [],
   "source": [
    "df = pd.read_excel(\"GB.xlsx\")"
   ]
  },
  {
   "cell_type": "code",
   "execution_count": 7,
   "metadata": {
    "colab": {
     "base_uri": "https://localhost:8080/",
     "height": 446
    },
    "id": "44TZx5t0iswv",
    "outputId": "0ea5da62-c258-4831-ab55-c119f3c67723"
   },
   "outputs": [
    {
     "data": {
      "text/html": [
       "<div>\n",
       "<style scoped>\n",
       "    .dataframe tbody tr th:only-of-type {\n",
       "        vertical-align: middle;\n",
       "    }\n",
       "\n",
       "    .dataframe tbody tr th {\n",
       "        vertical-align: top;\n",
       "    }\n",
       "\n",
       "    .dataframe thead th {\n",
       "        text-align: right;\n",
       "    }\n",
       "</style>\n",
       "<table border=\"1\" class=\"dataframe\">\n",
       "  <thead>\n",
       "    <tr style=\"text-align: right;\">\n",
       "      <th></th>\n",
       "      <th>Row ID</th>\n",
       "      <th>Order ID</th>\n",
       "      <th>Order Date</th>\n",
       "      <th>Ship Date</th>\n",
       "      <th>Ship Mode</th>\n",
       "      <th>Customer ID</th>\n",
       "      <th>Customer Name</th>\n",
       "      <th>Segment</th>\n",
       "      <th>Postal Code</th>\n",
       "      <th>City</th>\n",
       "      <th>...</th>\n",
       "      <th>Order Priority</th>\n",
       "      <th>Unit Price</th>\n",
       "      <th>Cost</th>\n",
       "      <th>sales staus</th>\n",
       "      <th>sum</th>\n",
       "      <th>Unnamed: 28</th>\n",
       "      <th>Unnamed: 29</th>\n",
       "      <th>Unnamed: 30</th>\n",
       "      <th>Unnamed: 31</th>\n",
       "      <th>Unnamed: 32</th>\n",
       "    </tr>\n",
       "  </thead>\n",
       "  <tbody>\n",
       "    <tr>\n",
       "      <th>0</th>\n",
       "      <td>40098</td>\n",
       "      <td>CA-2014-AB10015140-41954</td>\n",
       "      <td>41954</td>\n",
       "      <td>41956</td>\n",
       "      <td>879879</td>\n",
       "      <td>AB-100151402</td>\n",
       "      <td>Aaron Bergman</td>\n",
       "      <td>Consumer</td>\n",
       "      <td>73120.0</td>\n",
       "      <td>Oklahoma City</td>\n",
       "      <td>...</td>\n",
       "      <td>High</td>\n",
       "      <td>496</td>\n",
       "      <td>4030.1544</td>\n",
       "      <td>True</td>\n",
       "      <td>1.264250e+07</td>\n",
       "      <td>246.490581</td>\n",
       "      <td>8399.976</td>\n",
       "      <td>-6599.978</td>\n",
       "      <td>51290.0</td>\n",
       "      <td>Phones   Samsung Convoy 3</td>\n",
       "    </tr>\n",
       "    <tr>\n",
       "      <th>1</th>\n",
       "      <td>26341</td>\n",
       "      <td>IN-2014-JR162107-41675</td>\n",
       "      <td>41675</td>\n",
       "      <td>41677</td>\n",
       "      <td>Second Class</td>\n",
       "      <td>JR-162107</td>\n",
       "      <td>Justin Ritter</td>\n",
       "      <td>Corporate</td>\n",
       "      <td>NaN</td>\n",
       "      <td>Wollongong</td>\n",
       "      <td>...</td>\n",
       "      <td>Critical</td>\n",
       "      <td>23</td>\n",
       "      <td>6.2350</td>\n",
       "      <td>True</td>\n",
       "      <td>1.264228e+07</td>\n",
       "      <td>246.491059</td>\n",
       "      <td>NaN</td>\n",
       "      <td>NaN</td>\n",
       "      <td>NaN</td>\n",
       "      <td>Ph</td>\n",
       "    </tr>\n",
       "    <tr>\n",
       "      <th>2</th>\n",
       "      <td>25330</td>\n",
       "      <td>IN-2014-CR127307-41929</td>\n",
       "      <td>41929</td>\n",
       "      <td>41930</td>\n",
       "      <td>First Class</td>\n",
       "      <td>CR-127307</td>\n",
       "      <td>Craig Reiter</td>\n",
       "      <td>Consumer</td>\n",
       "      <td>NaN</td>\n",
       "      <td>Brisbane</td>\n",
       "      <td>...</td>\n",
       "      <td>Medium</td>\n",
       "      <td>215</td>\n",
       "      <td>3770.4610</td>\n",
       "      <td>True</td>\n",
       "      <td>1.263857e+07</td>\n",
       "      <td>246.423540</td>\n",
       "      <td>NaN</td>\n",
       "      <td>NaN</td>\n",
       "      <td>NaN</td>\n",
       "      <td>rs</td>\n",
       "    </tr>\n",
       "    <tr>\n",
       "      <th>3</th>\n",
       "      <td>13524</td>\n",
       "      <td>ES-2014-KM1637548-41667</td>\n",
       "      <td>41667</td>\n",
       "      <td>41669</td>\n",
       "      <td>First Class</td>\n",
       "      <td>KM-1637548</td>\n",
       "      <td>Katherine Murray</td>\n",
       "      <td>Home Office</td>\n",
       "      <td>NaN</td>\n",
       "      <td>Berlin</td>\n",
       "      <td>...</td>\n",
       "      <td>Medium</td>\n",
       "      <td>364</td>\n",
       "      <td>2633.6200</td>\n",
       "      <td>True</td>\n",
       "      <td>1.263340e+07</td>\n",
       "      <td>246.327439</td>\n",
       "      <td>NaN</td>\n",
       "      <td>NaN</td>\n",
       "      <td>NaN</td>\n",
       "      <td>es</td>\n",
       "    </tr>\n",
       "    <tr>\n",
       "      <th>4</th>\n",
       "      <td>47221</td>\n",
       "      <td>SG-2014-RH9495111-41948</td>\n",
       "      <td>41948</td>\n",
       "      <td>41949</td>\n",
       "      <td>Same Day</td>\n",
       "      <td>RH-9495111</td>\n",
       "      <td>Rick Hansen</td>\n",
       "      <td>Consumer</td>\n",
       "      <td>NaN</td>\n",
       "      <td>Dakar</td>\n",
       "      <td>...</td>\n",
       "      <td>Critical</td>\n",
       "      <td>26</td>\n",
       "      <td>1422.5600</td>\n",
       "      <td>True</td>\n",
       "      <td>1.263050e+07</td>\n",
       "      <td>246.275842</td>\n",
       "      <td>NaN</td>\n",
       "      <td>NaN</td>\n",
       "      <td>NaN</td>\n",
       "      <td>es</td>\n",
       "    </tr>\n",
       "  </tbody>\n",
       "</table>\n",
       "<p>5 rows × 33 columns</p>\n",
       "</div>"
      ],
      "text/plain": [
       "   Row ID                  Order ID  Order Date  Ship Date     Ship Mode  \\\n",
       "0   40098  CA-2014-AB10015140-41954       41954      41956        879879   \n",
       "1   26341    IN-2014-JR162107-41675       41675      41677  Second Class   \n",
       "2   25330    IN-2014-CR127307-41929       41929      41930   First Class   \n",
       "3   13524   ES-2014-KM1637548-41667       41667      41669   First Class   \n",
       "4   47221   SG-2014-RH9495111-41948       41948      41949      Same Day   \n",
       "\n",
       "    Customer ID     Customer Name      Segment  Postal Code           City  \\\n",
       "0  AB-100151402     Aaron Bergman     Consumer      73120.0  Oklahoma City   \n",
       "1     JR-162107     Justin Ritter    Corporate          NaN     Wollongong   \n",
       "2     CR-127307      Craig Reiter     Consumer          NaN       Brisbane   \n",
       "3    KM-1637548  Katherine Murray  Home Office          NaN         Berlin   \n",
       "4    RH-9495111       Rick Hansen     Consumer          NaN          Dakar   \n",
       "\n",
       "   ... Order Priority Unit Price      Cost  sales staus           sum  \\\n",
       "0  ...           High        496  4030.1544        True  1.264250e+07   \n",
       "1  ...       Critical         23     6.2350        True  1.264228e+07   \n",
       "2  ...         Medium        215  3770.4610        True  1.263857e+07   \n",
       "3  ...         Medium        364  2633.6200        True  1.263340e+07   \n",
       "4  ...       Critical         26  1422.5600        True  1.263050e+07   \n",
       "\n",
       "  Unnamed: 28 Unnamed: 29 Unnamed: 30  Unnamed: 31                Unnamed: 32  \n",
       "0  246.490581    8399.976   -6599.978      51290.0  Phones   Samsung Convoy 3  \n",
       "1  246.491059         NaN         NaN          NaN                         Ph  \n",
       "2  246.423540         NaN         NaN          NaN                         rs  \n",
       "3  246.327439         NaN         NaN          NaN                         es  \n",
       "4  246.275842         NaN         NaN          NaN                         es  \n",
       "\n",
       "[5 rows x 33 columns]"
      ]
     },
     "execution_count": 7,
     "metadata": {},
     "output_type": "execute_result"
    }
   ],
   "source": [
    "df.head()"
   ]
  },
  {
   "cell_type": "code",
   "execution_count": 8,
   "metadata": {
    "colab": {
     "base_uri": "https://localhost:8080/"
    },
    "id": "HYZISFgoijr8",
    "outputId": "6a38182c-77e8-4706-af61-7a0ed464bafb"
   },
   "outputs": [
    {
     "name": "stdout",
     "output_type": "stream",
     "text": [
      "<class 'pandas.core.frame.DataFrame'>\n",
      "RangeIndex: 51290 entries, 0 to 51289\n",
      "Data columns (total 33 columns):\n",
      " #   Column          Non-Null Count  Dtype  \n",
      "---  ------          --------------  -----  \n",
      " 0   Row ID          51290 non-null  int64  \n",
      " 1   Order ID        51290 non-null  object \n",
      " 2   Order Date      51290 non-null  int64  \n",
      " 3   Ship Date       51290 non-null  int64  \n",
      " 4   Ship Mode       51290 non-null  object \n",
      " 5   Customer ID     51290 non-null  object \n",
      " 6   Customer Name   51290 non-null  object \n",
      " 7   Segment         51290 non-null  object \n",
      " 8   Postal Code     9994 non-null   float64\n",
      " 9   City            51290 non-null  object \n",
      " 10  State           51290 non-null  object \n",
      " 11  Country         51290 non-null  object \n",
      " 12  Region          51283 non-null  object \n",
      " 13  Market          51290 non-null  object \n",
      " 14  Product ID      51290 non-null  object \n",
      " 15  Category        51290 non-null  object \n",
      " 16  Sub-Category    51290 non-null  object \n",
      " 17  Product Name    51290 non-null  object \n",
      " 18  Sales           51290 non-null  float64\n",
      " 19  Quantity        51290 non-null  int64  \n",
      " 20  Discount        51290 non-null  float64\n",
      " 21  Profit          51290 non-null  float64\n",
      " 22  Shipping Cost   51289 non-null  float64\n",
      " 23  Order Priority  51290 non-null  object \n",
      " 24  Unit Price      51290 non-null  int64  \n",
      " 25  Cost            51290 non-null  float64\n",
      " 26  sales staus     51290 non-null  bool   \n",
      " 27  sum             51290 non-null  float64\n",
      " 28  Unnamed: 28     51290 non-null  float64\n",
      " 29  Unnamed: 29     1 non-null      float64\n",
      " 30  Unnamed: 30     1 non-null      float64\n",
      " 31  Unnamed: 31     1 non-null      float64\n",
      " 32  Unnamed: 32     51290 non-null  object \n",
      "dtypes: bool(1), float64(11), int64(5), object(16)\n",
      "memory usage: 12.6+ MB\n"
     ]
    }
   ],
   "source": [
    "df.info()"
   ]
  },
  {
   "cell_type": "code",
   "execution_count": 9,
   "metadata": {
    "colab": {
     "base_uri": "https://localhost:8080/"
    },
    "id": "nr7un57Li-DI",
    "outputId": "696fa4d7-a77c-4800-838d-c02a842c1876"
   },
   "outputs": [
    {
     "name": "stdout",
     "output_type": "stream",
     "text": [
      "Segment\n",
      "Consumer       550\n",
      "Corporate      550\n",
      "Home Office    550\n",
      "Name: Unit Price, dtype: int64\n"
     ]
    }
   ],
   "source": [
    "#grouping  by\n",
    "\n",
    "group = df.groupby(\"Segment\")[\"Unit Price\"].max()\n",
    "print(group)"
   ]
  },
  {
   "cell_type": "code",
   "execution_count": 10,
   "metadata": {
    "colab": {
     "base_uri": "https://localhost:8080/"
    },
    "id": "sG_deGdgjyTV",
    "outputId": "a9ceb598-1fb2-4b8b-c3b7-4422ac7d78ba"
   },
   "outputs": [
    {
     "name": "stdout",
     "output_type": "stream",
     "text": [
      "Segment\n",
      "Consumer       1\n",
      "Corporate      1\n",
      "Home Office    1\n",
      "Name: Unit Price, dtype: int64\n"
     ]
    }
   ],
   "source": [
    "group = df.groupby(\"Segment\")[\"Unit Price\"].min()\n",
    "print(group)"
   ]
  },
  {
   "cell_type": "code",
   "execution_count": 11,
   "metadata": {
    "colab": {
     "base_uri": "https://localhost:8080/"
    },
    "id": "SvtThJXlj8C7",
    "outputId": "73417c2f-fde5-4389-ac88-fb7e5cb61dbc"
   },
   "outputs": [
    {
     "name": "stdout",
     "output_type": "stream",
     "text": [
      "            Unit Price                     \n",
      "                   sum  max min        mean\n",
      "Segment                                    \n",
      "Consumer       7294175  550   1  275.065050\n",
      "Corporate      4265295  550   1  276.446626\n",
      "Home Office    2548608  550   1  272.782618\n"
     ]
    }
   ],
   "source": [
    "# Calculate aggregation function at one time using 'agg' method\n",
    "\n",
    "agg = df.groupby('Segment').agg({'Unit Price' : ['sum','max','min','mean']})\n",
    "print(agg)"
   ]
  },
  {
   "cell_type": "code",
   "execution_count": 12,
   "metadata": {
    "colab": {
     "base_uri": "https://localhost:8080/"
    },
    "id": "K-wE26oll-DJ",
    "outputId": "c3535568-ffde-49f9-b1e0-fb5fc833f504"
   },
   "outputs": [
    {
     "name": "stdout",
     "output_type": "stream",
     "text": [
      "    Name city\n",
      "0  lasya  Hyd\n",
      "1   janu  Tpt\n",
      "2    sai   Cn\n"
     ]
    }
   ],
   "source": [
    "#merge data\n",
    "\n",
    "dfs = pd.DataFrame({'Name':['lasya','janu','sai'], 'city':['Hyd','Tpt','Cn']})\n",
    "print(dfs)"
   ]
  },
  {
   "cell_type": "code",
   "execution_count": 13,
   "metadata": {
    "colab": {
     "base_uri": "https://localhost:8080/"
    },
    "id": "MewTaom8meZO",
    "outputId": "88550657-9f21-4076-ca61-657a176d82f9"
   },
   "outputs": [
    {
     "name": "stdout",
     "output_type": "stream",
     "text": [
      "    Name city\n",
      "0  kutti  Vij\n",
      "1   nani  Tpt\n",
      "2    sai   Cn\n"
     ]
    }
   ],
   "source": [
    "#merge data\n",
    "\n",
    "df1 = pd.DataFrame({'Name':['kutti','nani','sai'], 'city':['Vij','Tpt','Cn']})\n",
    "print(df1)"
   ]
  },
  {
   "cell_type": "code",
   "execution_count": 14,
   "metadata": {
    "colab": {
     "base_uri": "https://localhost:8080/"
    },
    "id": "C11M61dwmw06",
    "outputId": "10e6c28c-5ce0-4b07-b3d3-7307884ee42a"
   },
   "outputs": [
    {
     "name": "stdout",
     "output_type": "stream",
     "text": [
      "    Name city\n",
      "0  lasya  Hyd\n",
      "1   janu  Tpt\n",
      "2    sai   Cn\n",
      "0  kutti  Vij\n",
      "1   nani  Tpt\n",
      "2    sai   Cn\n"
     ]
    }
   ],
   "source": [
    "#concating using pandas concat\n",
    "\n",
    "df2 = [dfs,df1]\n",
    "merge = pd.concat(df2)\n",
    "print(merge)"
   ]
  },
  {
   "cell_type": "markdown",
   "metadata": {
    "id": "v0EMNkuon1f7"
   },
   "source": [
    "DATA *CLEANING*"
   ]
  },
  {
   "cell_type": "code",
   "execution_count": 15,
   "metadata": {
    "colab": {
     "base_uri": "https://localhost:8080/"
    },
    "id": "pKRPRzVQn2py",
    "outputId": "1675d9c4-ce9f-4d7e-9cb1-d1c8bbae4b76"
   },
   "outputs": [
    {
     "data": {
      "text/plain": [
       "Row ID                0\n",
       "Order ID              0\n",
       "Order Date            0\n",
       "Ship Date             0\n",
       "Ship Mode             0\n",
       "Customer ID           0\n",
       "Customer Name         0\n",
       "Segment               0\n",
       "Postal Code       41296\n",
       "City                  0\n",
       "State                 0\n",
       "Country               0\n",
       "Region                7\n",
       "Market                0\n",
       "Product ID            0\n",
       "Category              0\n",
       "Sub-Category          0\n",
       "Product Name          0\n",
       "Sales                 0\n",
       "Quantity              0\n",
       "Discount              0\n",
       "Profit                0\n",
       "Shipping Cost         1\n",
       "Order Priority        0\n",
       "Unit Price            0\n",
       "Cost                  0\n",
       "sales staus           0\n",
       "sum                   0\n",
       "Unnamed: 28           0\n",
       "Unnamed: 29       51289\n",
       "Unnamed: 30       51289\n",
       "Unnamed: 31       51289\n",
       "Unnamed: 32           0\n",
       "dtype: int64"
      ]
     },
     "execution_count": 15,
     "metadata": {},
     "output_type": "execute_result"
    }
   ],
   "source": [
    "df.isnull().sum()"
   ]
  },
  {
   "cell_type": "code",
   "execution_count": 16,
   "metadata": {
    "colab": {
     "base_uri": "https://localhost:8080/"
    },
    "id": "c_SOqv2HoJGh",
    "outputId": "f3727aad-6699-44c8-8038-a2f7aba4f8bb"
   },
   "outputs": [
    {
     "data": {
      "text/plain": [
       "Row ID            False\n",
       "Order ID          False\n",
       "Order Date        False\n",
       "Ship Date         False\n",
       "Ship Mode         False\n",
       "Customer ID       False\n",
       "Customer Name     False\n",
       "Segment           False\n",
       "Postal Code        True\n",
       "City              False\n",
       "State             False\n",
       "Country           False\n",
       "Region             True\n",
       "Market            False\n",
       "Product ID        False\n",
       "Category          False\n",
       "Sub-Category      False\n",
       "Product Name      False\n",
       "Sales             False\n",
       "Quantity          False\n",
       "Discount          False\n",
       "Profit            False\n",
       "Shipping Cost      True\n",
       "Order Priority    False\n",
       "Unit Price        False\n",
       "Cost              False\n",
       "sales staus       False\n",
       "sum               False\n",
       "Unnamed: 28       False\n",
       "Unnamed: 29        True\n",
       "Unnamed: 30        True\n",
       "Unnamed: 31        True\n",
       "Unnamed: 32       False\n",
       "dtype: bool"
      ]
     },
     "execution_count": 16,
     "metadata": {},
     "output_type": "execute_result"
    }
   ],
   "source": [
    "df.isnull().any()"
   ]
  },
  {
   "cell_type": "code",
   "execution_count": 17,
   "metadata": {
    "id": "Qk63dW7ToiR9"
   },
   "outputs": [],
   "source": [
    "df.fillna(0,inplace = True)"
   ]
  },
  {
   "cell_type": "code",
   "execution_count": 18,
   "metadata": {
    "colab": {
     "base_uri": "https://localhost:8080/"
    },
    "id": "0bfmht7io9y1",
    "outputId": "1c342f43-d53d-42f6-dd1c-0619fd014311"
   },
   "outputs": [
    {
     "data": {
      "text/plain": [
       "0        False\n",
       "1        False\n",
       "2        False\n",
       "3        False\n",
       "4        False\n",
       "         ...  \n",
       "51285    False\n",
       "51286    False\n",
       "51287    False\n",
       "51288    False\n",
       "51289    False\n",
       "Length: 51290, dtype: bool"
      ]
     },
     "execution_count": 18,
     "metadata": {},
     "output_type": "execute_result"
    }
   ],
   "source": [
    "df.duplicated() #if any duplicates"
   ]
  },
  {
   "cell_type": "code",
   "execution_count": 19,
   "metadata": {
    "colab": {
     "base_uri": "https://localhost:8080/",
     "height": 446
    },
    "id": "8Yv1kwezpUlc",
    "outputId": "adf54738-de52-48da-f87d-a0df704e216b"
   },
   "outputs": [
    {
     "data": {
      "text/html": [
       "<div>\n",
       "<style scoped>\n",
       "    .dataframe tbody tr th:only-of-type {\n",
       "        vertical-align: middle;\n",
       "    }\n",
       "\n",
       "    .dataframe tbody tr th {\n",
       "        vertical-align: top;\n",
       "    }\n",
       "\n",
       "    .dataframe thead th {\n",
       "        text-align: right;\n",
       "    }\n",
       "</style>\n",
       "<table border=\"1\" class=\"dataframe\">\n",
       "  <thead>\n",
       "    <tr style=\"text-align: right;\">\n",
       "      <th></th>\n",
       "      <th>Row ID</th>\n",
       "      <th>Order ID</th>\n",
       "      <th>Odate</th>\n",
       "      <th>Sdate</th>\n",
       "      <th>Ship Mode</th>\n",
       "      <th>Customer ID</th>\n",
       "      <th>Customer Name</th>\n",
       "      <th>Segment</th>\n",
       "      <th>Postal Code</th>\n",
       "      <th>City</th>\n",
       "      <th>...</th>\n",
       "      <th>Order Priority</th>\n",
       "      <th>Unit Price</th>\n",
       "      <th>Cost</th>\n",
       "      <th>sales staus</th>\n",
       "      <th>sum</th>\n",
       "      <th>Unnamed: 28</th>\n",
       "      <th>Unnamed: 29</th>\n",
       "      <th>Unnamed: 30</th>\n",
       "      <th>Unnamed: 31</th>\n",
       "      <th>Unnamed: 32</th>\n",
       "    </tr>\n",
       "  </thead>\n",
       "  <tbody>\n",
       "    <tr>\n",
       "      <th>0</th>\n",
       "      <td>40098</td>\n",
       "      <td>CA-2014-AB10015140-41954</td>\n",
       "      <td>41954</td>\n",
       "      <td>41956</td>\n",
       "      <td>879879</td>\n",
       "      <td>AB-100151402</td>\n",
       "      <td>Aaron Bergman</td>\n",
       "      <td>Consumer</td>\n",
       "      <td>73120.0</td>\n",
       "      <td>Oklahoma City</td>\n",
       "      <td>...</td>\n",
       "      <td>High</td>\n",
       "      <td>496</td>\n",
       "      <td>4030.1544</td>\n",
       "      <td>True</td>\n",
       "      <td>1.264250e+07</td>\n",
       "      <td>246.490581</td>\n",
       "      <td>8399.976</td>\n",
       "      <td>-6599.978</td>\n",
       "      <td>51290.0</td>\n",
       "      <td>Phones   Samsung Convoy 3</td>\n",
       "    </tr>\n",
       "    <tr>\n",
       "      <th>1</th>\n",
       "      <td>26341</td>\n",
       "      <td>IN-2014-JR162107-41675</td>\n",
       "      <td>41675</td>\n",
       "      <td>41677</td>\n",
       "      <td>Second Class</td>\n",
       "      <td>JR-162107</td>\n",
       "      <td>Justin Ritter</td>\n",
       "      <td>Corporate</td>\n",
       "      <td>0.0</td>\n",
       "      <td>Wollongong</td>\n",
       "      <td>...</td>\n",
       "      <td>Critical</td>\n",
       "      <td>23</td>\n",
       "      <td>6.2350</td>\n",
       "      <td>True</td>\n",
       "      <td>1.264228e+07</td>\n",
       "      <td>246.491059</td>\n",
       "      <td>0.000</td>\n",
       "      <td>0.000</td>\n",
       "      <td>0.0</td>\n",
       "      <td>Ph</td>\n",
       "    </tr>\n",
       "    <tr>\n",
       "      <th>2</th>\n",
       "      <td>25330</td>\n",
       "      <td>IN-2014-CR127307-41929</td>\n",
       "      <td>41929</td>\n",
       "      <td>41930</td>\n",
       "      <td>First Class</td>\n",
       "      <td>CR-127307</td>\n",
       "      <td>Craig Reiter</td>\n",
       "      <td>Consumer</td>\n",
       "      <td>0.0</td>\n",
       "      <td>Brisbane</td>\n",
       "      <td>...</td>\n",
       "      <td>Medium</td>\n",
       "      <td>215</td>\n",
       "      <td>3770.4610</td>\n",
       "      <td>True</td>\n",
       "      <td>1.263857e+07</td>\n",
       "      <td>246.423540</td>\n",
       "      <td>0.000</td>\n",
       "      <td>0.000</td>\n",
       "      <td>0.0</td>\n",
       "      <td>rs</td>\n",
       "    </tr>\n",
       "    <tr>\n",
       "      <th>3</th>\n",
       "      <td>13524</td>\n",
       "      <td>ES-2014-KM1637548-41667</td>\n",
       "      <td>41667</td>\n",
       "      <td>41669</td>\n",
       "      <td>First Class</td>\n",
       "      <td>KM-1637548</td>\n",
       "      <td>Katherine Murray</td>\n",
       "      <td>Home Office</td>\n",
       "      <td>0.0</td>\n",
       "      <td>Berlin</td>\n",
       "      <td>...</td>\n",
       "      <td>Medium</td>\n",
       "      <td>364</td>\n",
       "      <td>2633.6200</td>\n",
       "      <td>True</td>\n",
       "      <td>1.263340e+07</td>\n",
       "      <td>246.327439</td>\n",
       "      <td>0.000</td>\n",
       "      <td>0.000</td>\n",
       "      <td>0.0</td>\n",
       "      <td>es</td>\n",
       "    </tr>\n",
       "    <tr>\n",
       "      <th>4</th>\n",
       "      <td>47221</td>\n",
       "      <td>SG-2014-RH9495111-41948</td>\n",
       "      <td>41948</td>\n",
       "      <td>41949</td>\n",
       "      <td>Same Day</td>\n",
       "      <td>RH-9495111</td>\n",
       "      <td>Rick Hansen</td>\n",
       "      <td>Consumer</td>\n",
       "      <td>0.0</td>\n",
       "      <td>Dakar</td>\n",
       "      <td>...</td>\n",
       "      <td>Critical</td>\n",
       "      <td>26</td>\n",
       "      <td>1422.5600</td>\n",
       "      <td>True</td>\n",
       "      <td>1.263050e+07</td>\n",
       "      <td>246.275842</td>\n",
       "      <td>0.000</td>\n",
       "      <td>0.000</td>\n",
       "      <td>0.0</td>\n",
       "      <td>es</td>\n",
       "    </tr>\n",
       "  </tbody>\n",
       "</table>\n",
       "<p>5 rows × 33 columns</p>\n",
       "</div>"
      ],
      "text/plain": [
       "   Row ID                  Order ID  Odate  Sdate     Ship Mode   Customer ID  \\\n",
       "0   40098  CA-2014-AB10015140-41954  41954  41956        879879  AB-100151402   \n",
       "1   26341    IN-2014-JR162107-41675  41675  41677  Second Class     JR-162107   \n",
       "2   25330    IN-2014-CR127307-41929  41929  41930   First Class     CR-127307   \n",
       "3   13524   ES-2014-KM1637548-41667  41667  41669   First Class    KM-1637548   \n",
       "4   47221   SG-2014-RH9495111-41948  41948  41949      Same Day    RH-9495111   \n",
       "\n",
       "      Customer Name      Segment  Postal Code           City  ...  \\\n",
       "0     Aaron Bergman     Consumer      73120.0  Oklahoma City  ...   \n",
       "1     Justin Ritter    Corporate          0.0     Wollongong  ...   \n",
       "2      Craig Reiter     Consumer          0.0       Brisbane  ...   \n",
       "3  Katherine Murray  Home Office          0.0         Berlin  ...   \n",
       "4       Rick Hansen     Consumer          0.0          Dakar  ...   \n",
       "\n",
       "  Order Priority Unit Price      Cost  sales staus           sum Unnamed: 28  \\\n",
       "0           High        496  4030.1544        True  1.264250e+07  246.490581   \n",
       "1       Critical         23     6.2350        True  1.264228e+07  246.491059   \n",
       "2         Medium        215  3770.4610        True  1.263857e+07  246.423540   \n",
       "3         Medium        364  2633.6200        True  1.263340e+07  246.327439   \n",
       "4       Critical         26  1422.5600        True  1.263050e+07  246.275842   \n",
       "\n",
       "  Unnamed: 29 Unnamed: 30  Unnamed: 31                Unnamed: 32  \n",
       "0    8399.976   -6599.978      51290.0  Phones   Samsung Convoy 3  \n",
       "1       0.000       0.000          0.0                         Ph  \n",
       "2       0.000       0.000          0.0                         rs  \n",
       "3       0.000       0.000          0.0                         es  \n",
       "4       0.000       0.000          0.0                         es  \n",
       "\n",
       "[5 rows x 33 columns]"
      ]
     },
     "execution_count": 19,
     "metadata": {},
     "output_type": "execute_result"
    }
   ],
   "source": [
    "#renaming the columns\n",
    "\n",
    "df = df.rename(columns={'Order Date' : 'Odate' , 'Ship Date' : 'Sdate' })\n",
    "df.head()"
   ]
  },
  {
   "cell_type": "code",
   "execution_count": null,
   "metadata": {},
   "outputs": [],
   "source": []
  }
 ],
 "metadata": {
  "colab": {
   "provenance": []
  },
  "kernelspec": {
   "display_name": "Python 3 (ipykernel)",
   "language": "python",
   "name": "python3"
  },
  "language_info": {
   "codemirror_mode": {
    "name": "ipython",
    "version": 3
   },
   "file_extension": ".py",
   "mimetype": "text/x-python",
   "name": "python",
   "nbconvert_exporter": "python",
   "pygments_lexer": "ipython3",
   "version": "3.12.0"
  }
 },
 "nbformat": 4,
 "nbformat_minor": 4
}
